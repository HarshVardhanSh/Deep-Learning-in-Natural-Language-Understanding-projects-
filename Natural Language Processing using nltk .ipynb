{
 "cells": [
  {
   "cell_type": "markdown",
   "metadata": {},
   "source": [
    "# Natural Language Processing with nltk "
   ]
  },
  {
   "cell_type": "code",
   "execution_count": 1,
   "metadata": {
    "collapsed": true
   },
   "outputs": [],
   "source": [
    "import nltk "
   ]
  },
  {
   "cell_type": "code",
   "execution_count": 2,
   "metadata": {},
   "outputs": [
    {
     "name": "stdout",
     "output_type": "stream",
     "text": [
      "[nltk_data] Downloading package movie_reviews to\n",
      "[nltk_data]     C:\\Users\\HarshLaptop\\AppData\\Roaming\\nltk_data...\n",
      "[nltk_data]   Package movie_reviews is already up-to-date!\n"
     ]
    },
    {
     "data": {
      "text/plain": [
       "True"
      ]
     },
     "execution_count": 2,
     "metadata": {},
     "output_type": "execute_result"
    }
   ],
   "source": [
    "# downloading movie review dataset \n",
    "nltk.download(\"movie_reviews\")"
   ]
  },
  {
   "cell_type": "code",
   "execution_count": 3,
   "metadata": {
    "collapsed": true
   },
   "outputs": [],
   "source": [
    "# importing movie review dataset\n",
    "from nltk.corpus import movie_reviews "
   ]
  },
  {
   "cell_type": "code",
   "execution_count": 4,
   "metadata": {},
   "outputs": [
    {
     "name": "stdout",
     "output_type": "stream",
     "text": [
      "2000\n"
     ]
    }
   ],
   "source": [
    "# how many reviews do we have ? \n",
    "print(len(movie_reviews.fileids()))"
   ]
  },
  {
   "cell_type": "code",
   "execution_count": 5,
   "metadata": {},
   "outputs": [
    {
     "data": {
      "text/plain": [
       "['neg/cv000_29416.txt',\n",
       " 'neg/cv001_19502.txt',\n",
       " 'neg/cv002_17424.txt',\n",
       " 'neg/cv003_12683.txt',\n",
       " 'neg/cv004_12641.txt']"
      ]
     },
     "execution_count": 5,
     "metadata": {},
     "output_type": "execute_result"
    }
   ],
   "source": [
    "movie_reviews.fileids()[:5]"
   ]
  },
  {
   "cell_type": "code",
   "execution_count": 6,
   "metadata": {},
   "outputs": [
    {
     "data": {
      "text/plain": [
       "['pos/cv995_21821.txt',\n",
       " 'pos/cv996_11592.txt',\n",
       " 'pos/cv997_5046.txt',\n",
       " 'pos/cv998_14111.txt',\n",
       " 'pos/cv999_13106.txt']"
      ]
     },
     "execution_count": 6,
     "metadata": {},
     "output_type": "execute_result"
    }
   ],
   "source": [
    "movie_reviews.fileids()[-5:]"
   ]
  },
  {
   "cell_type": "code",
   "execution_count": 7,
   "metadata": {},
   "outputs": [
    {
     "name": "stdout",
     "output_type": "stream",
     "text": [
      "Negative fileids :  1000\n",
      "Positive fileids :  1000\n"
     ]
    }
   ],
   "source": [
    "# So we have some positive reviews and some negative reviews \n",
    "# how many are negative and how many are positive reviews ? \n",
    "negative_fileids = movie_reviews.fileids(\"neg\")\n",
    "positive_fileids = movie_reviews.fileids(\"pos\")\n",
    "print('Negative fileids : ', len(negative_fileids))\n",
    "print('Positive fileids : ', len(positive_fileids))"
   ]
  },
  {
   "cell_type": "code",
   "execution_count": 8,
   "metadata": {},
   "outputs": [
    {
     "name": "stdout",
     "output_type": "stream",
     "text": [
      " \" jaws \" is a rare film that grabs your attention before it shows you a single image on screen . \n",
      "the movie opens with blackness , and only distant , alien-like underwater sounds . \n",
      "then it comes , the first ominous bars of composer john williams' now infamous score . \n",
      "dah-dum . \n",
      "from there , director steven spielberg wastes no time , taking us into the water on a midnight swim with a beautiful girl that turns deadly . \n",
      "right away he lets us know how vulnerable we all are floating in the ocean , and once \" jaws \" has attacked , it never relinquishes its grip . \n",
      "perhaps what is most outstanding about \" jaws \" is how spielberg builds the movie . \n",
      "he works it like a theatrical production , with a first act and a second act . \n",
      "unlike so many modern filmmakers , he has a great deal of restraint , and refuses to show us the shark until the middle of the second act . \n",
      "until then , he merely suggests its presence with creepy , subjective underwater shots and williams' music . \n",
      "he's building the tension bit by bit , so when it comes time for the climax , the shark's arrival is truly terrifying . \n",
      "he doesn't let us get bored with the imagery . \n",
      "the first act opens with police chief martin brody ( roy scheider ) , a new york cop who has taken an easy , peaceful job running the police station on amity island , a fictitious new england resort town where there hasn't been a murder or a gun fired in 25 years . \n",
      "the island is shaken up by several vicious great white shark attacks right before the fourth of july , and the mayor , larry vaughn ( murray hamilton ) , doesn't want to shut down the beaches because the island is reliant on summer tourist money . \n",
      "brody is joined by matt hooper ( richard dreyfuss ) , a young , ambitious shark expert from the marine institute . \n",
      "hooper is as fascinated by the shark as he is determined to help brody stop it -- his knowledge about the exact workings of the shark ( \" it's a perfect engine , an eating machine \" ) make it that much more terrifying . \n",
      "when vaughn finally relents , hooper and brody join a crusty old shark killer named quint ( robert shaw ) on his decrepit boat , the orca , to search for the shark . \n",
      "the entire second act takes place on the orca as the three men hunt the shark , and inevitably , are hunted by it . \n",
      " \" jaws \" is a thriller with a keen sense of humor and an incredible sense of pacing , tension , and horror . \n",
      "it is like ten movies all rolled into one , and it's no wonder it took america by storm in the summer of 1975 , taking in enough money to crown it the box office champ of all time ( until it was unceremoniously dethroned in 1977 by \" star wars \" ) . \n",
      "even today , fascination with this film is on par with hitchcock's \" psycho , \" and it never seems to age . \n",
      "although grand new technology exists that makes the technical sequences , including several mechanical sharks , obsolete , none of it could improve the film because it only would lead to overkill . \n",
      "the technical limitations faced by spielberg in 1975 may have actually produced a better film because it forced him to rely on traditional cinematic elements like pacing , characterization , sharp editing , and creative photography , instead of simply dousing the audience with digital shark effects . \n",
      "scheider , dreyfuss , and shaw were known actors at the time \" jaws \" was made , but none of them had the draw of a robert redford or paul newman . \n",
      "nevertheless , this film guaranteed them all successful careers because each gave an outstanding performance and refused to be overshadowed by the shark . \n",
      "scheider hits just the right notes as a sympathetic husband and father caught in the political quagmire of doing what's right and going against the entire town . \n",
      " \" it's your first summer here , you know , \" mayor vaughn warns him . \n",
      "dreyfuss , who had previously been seen in \" american graffiti \" ( 1973 ) and \" the apprenticeship of duddy kravitz \" ( 1974 ) gives a surprisingly mature , complex performance for someone who had literally only played kids and teenagers . \n",
      "however , most outstanding is the gnarled performance by robert shaw as the movie's captain ahab , a performance sorely overlooked by the academy awards . \n",
      "bordering of parody , shaw plays quint as a grizzled old loner whose machismo borders on masochism . \n",
      "he's slightly deranged , and shaw's performance is almost a caricature . \n",
      "however , there is one scene late in the film , when he and brody and hooper are below deck on the orca comparing scars . \n",
      "quint is drawn into telling the story of his experiences aboard the u . s . s . \n",
      "indianapolis , a navy ship in world war ii that was sunk by the japanese . \n",
      "his tale of floating in the water for more than a week with over 1 , 000 other men while swarms of sharks slowly devoured them them is actually more hair-raising than anything spielberg put on screen . \n",
      "shaw delivers the story in one long take , and it is the best acting in the film . \n",
      "of course , we can't leave out the shark itself ; with its black eyes , endless rows of teeth , and insatiable urge to eat , it is basically the epitome of all mankind's fears about what is unknown and threatening in nature . \n",
      "a shark is such a perfect nemesis it is real -- having survived sinch the dinosaurs , great whites do exist , they can be as large as the shark in \" jaws , \" and they are a threat . \n",
      "every one of spielberg's subjective underwater shots makes us feel queasy because lets us see how we look to the shark : a bunch of writihing , dangling , completely unprotected legs just ready to be chomped into . \n",
      "the shark in \" jaws \" was actually a combination of actual footage and five different mechanical sharks ( all nicknamed \" bruce \" by the crew ) built to be shot from different angles . \n",
      "many have forgotten , but \" jaws \" was a sort of precursor to \" waterworld \" ( 1995 ) , a movie's who soggy production and cost overruns had universal studios worried about a bomb . \n",
      "but , as we can see now , spielberg overcame all the obstacles , and delivered one of the finest primal scare-thrillers ever to come out of hollywood . \n",
      "\n"
     ]
    }
   ],
   "source": [
    "# inspecting one of the reviews \n",
    "print(movie_reviews.raw(fileids = positive_fileids[3]))"
   ]
  },
  {
   "cell_type": "code",
   "execution_count": 9,
   "metadata": {},
   "outputs": [
    {
     "name": "stdout",
     "output_type": "stream",
     "text": [
      "[nltk_data] Downloading package punkt to\n",
      "[nltk_data]     C:\\Users\\HarshLaptop\\AppData\\Roaming\\nltk_data...\n",
      "[nltk_data]   Package punkt is already up-to-date!\n"
     ]
    },
    {
     "data": {
      "text/plain": [
       "True"
      ]
     },
     "execution_count": 9,
     "metadata": {},
     "output_type": "execute_result"
    }
   ],
   "source": [
    "# Next step is to tokenise the text \n",
    "# we will use a sophisticated tokeniser from nltk \n",
    "nltk.download(\"punkt\")"
   ]
  },
  {
   "cell_type": "code",
   "execution_count": 10,
   "metadata": {
    "collapsed": true
   },
   "outputs": [],
   "source": [
    "# well we can get the tokenised text just by using words method on nltk corpus \n",
    "list_of_words = movie_reviews.words(fileids = positive_fileids[3])"
   ]
  },
  {
   "cell_type": "code",
   "execution_count": 24,
   "metadata": {},
   "outputs": [
    {
     "data": {
      "text/plain": [
       "['\"',\n",
       " 'jaws',\n",
       " '\"',\n",
       " 'is',\n",
       " 'a',\n",
       " 'rare',\n",
       " 'film',\n",
       " 'that',\n",
       " 'grabs',\n",
       " 'your',\n",
       " 'attention',\n",
       " 'before',\n",
       " 'it',\n",
       " 'shows',\n",
       " 'you',\n",
       " 'a',\n",
       " 'single',\n",
       " 'image',\n",
       " 'on',\n",
       " 'screen']"
      ]
     },
     "execution_count": 24,
     "metadata": {},
     "output_type": "execute_result"
    }
   ],
   "source": [
    "list_of_words[: 20]"
   ]
  },
  {
   "cell_type": "code",
   "execution_count": 11,
   "metadata": {
    "collapsed": true
   },
   "outputs": [],
   "source": [
    "# Now we will build a bag of words model \n",
    "# its the simplest model to analyze text \n",
    "# for a word in a text its assigned true else assigned false; words acts as features \n",
    "\n",
    "def build_bag_of_words_features(words) :\n",
    "    return {word : True for word in words}"
   ]
  },
  {
   "cell_type": "code",
   "execution_count": 12,
   "metadata": {},
   "outputs": [
    {
     "data": {
      "text/plain": [
       "{'\"': True,\n",
       " \"'\": True,\n",
       " '(': True,\n",
       " ')': True,\n",
       " ',': True,\n",
       " '-': True,\n",
       " '--': True,\n",
       " '.': True,\n",
       " '000': True,\n",
       " '1': True,\n",
       " '1973': True,\n",
       " '1974': True,\n",
       " '1975': True,\n",
       " '1977': True,\n",
       " '1995': True,\n",
       " '25': True,\n",
       " ':': True,\n",
       " ';': True,\n",
       " 'a': True,\n",
       " 'aboard': True,\n",
       " 'about': True,\n",
       " 'academy': True,\n",
       " 'act': True,\n",
       " 'acting': True,\n",
       " 'actors': True,\n",
       " 'actual': True,\n",
       " 'actually': True,\n",
       " 'against': True,\n",
       " 'age': True,\n",
       " 'ahab': True,\n",
       " 'alien': True,\n",
       " 'all': True,\n",
       " 'almost': True,\n",
       " 'although': True,\n",
       " 'ambitious': True,\n",
       " 'america': True,\n",
       " 'american': True,\n",
       " 'amity': True,\n",
       " 'an': True,\n",
       " 'and': True,\n",
       " 'angles': True,\n",
       " 'anything': True,\n",
       " 'apprenticeship': True,\n",
       " 'are': True,\n",
       " 'arrival': True,\n",
       " 'as': True,\n",
       " 'at': True,\n",
       " 'attacked': True,\n",
       " 'attacks': True,\n",
       " 'attention': True,\n",
       " 'audience': True,\n",
       " 'awards': True,\n",
       " 'away': True,\n",
       " 'bars': True,\n",
       " 'basically': True,\n",
       " 'be': True,\n",
       " 'beaches': True,\n",
       " 'beautiful': True,\n",
       " 'because': True,\n",
       " 'been': True,\n",
       " 'before': True,\n",
       " 'below': True,\n",
       " 'best': True,\n",
       " 'better': True,\n",
       " 'bit': True,\n",
       " 'black': True,\n",
       " 'blackness': True,\n",
       " 'boat': True,\n",
       " 'bomb': True,\n",
       " 'bordering': True,\n",
       " 'borders': True,\n",
       " 'bored': True,\n",
       " 'box': True,\n",
       " 'brody': True,\n",
       " 'bruce': True,\n",
       " 'building': True,\n",
       " 'builds': True,\n",
       " 'built': True,\n",
       " 'bunch': True,\n",
       " 'but': True,\n",
       " 'by': True,\n",
       " 'can': True,\n",
       " 'captain': True,\n",
       " 'careers': True,\n",
       " 'caricature': True,\n",
       " 'caught': True,\n",
       " 'champ': True,\n",
       " 'characterization': True,\n",
       " 'chief': True,\n",
       " 'chomped': True,\n",
       " 'cinematic': True,\n",
       " 'climax': True,\n",
       " 'combination': True,\n",
       " 'come': True,\n",
       " 'comes': True,\n",
       " 'comparing': True,\n",
       " 'completely': True,\n",
       " 'complex': True,\n",
       " 'composer': True,\n",
       " 'cop': True,\n",
       " 'cost': True,\n",
       " 'could': True,\n",
       " 'course': True,\n",
       " 'creative': True,\n",
       " 'creepy': True,\n",
       " 'crew': True,\n",
       " 'crown': True,\n",
       " 'crusty': True,\n",
       " 'dah': True,\n",
       " 'dangling': True,\n",
       " 'deadly': True,\n",
       " 'deal': True,\n",
       " 'deck': True,\n",
       " 'decrepit': True,\n",
       " 'delivered': True,\n",
       " 'delivers': True,\n",
       " 'deranged': True,\n",
       " 'determined': True,\n",
       " 'dethroned': True,\n",
       " 'devoured': True,\n",
       " 'different': True,\n",
       " 'digital': True,\n",
       " 'dinosaurs': True,\n",
       " 'director': True,\n",
       " 'distant': True,\n",
       " 'do': True,\n",
       " 'doesn': True,\n",
       " 'doing': True,\n",
       " 'dousing': True,\n",
       " 'down': True,\n",
       " 'draw': True,\n",
       " 'drawn': True,\n",
       " 'dreyfuss': True,\n",
       " 'duddy': True,\n",
       " 'dum': True,\n",
       " 'each': True,\n",
       " 'easy': True,\n",
       " 'eat': True,\n",
       " 'eating': True,\n",
       " 'editing': True,\n",
       " 'effects': True,\n",
       " 'elements': True,\n",
       " 'endless': True,\n",
       " 'engine': True,\n",
       " 'england': True,\n",
       " 'enough': True,\n",
       " 'entire': True,\n",
       " 'epitome': True,\n",
       " 'even': True,\n",
       " 'ever': True,\n",
       " 'every': True,\n",
       " 'exact': True,\n",
       " 'exist': True,\n",
       " 'exists': True,\n",
       " 'experiences': True,\n",
       " 'expert': True,\n",
       " 'eyes': True,\n",
       " 'faced': True,\n",
       " 'fascinated': True,\n",
       " 'fascination': True,\n",
       " 'father': True,\n",
       " 'fears': True,\n",
       " 'feel': True,\n",
       " 'fictitious': True,\n",
       " 'film': True,\n",
       " 'filmmakers': True,\n",
       " 'finally': True,\n",
       " 'finest': True,\n",
       " 'fired': True,\n",
       " 'first': True,\n",
       " 'five': True,\n",
       " 'floating': True,\n",
       " 'footage': True,\n",
       " 'for': True,\n",
       " 'forced': True,\n",
       " 'forgotten': True,\n",
       " 'fourth': True,\n",
       " 'from': True,\n",
       " 'gave': True,\n",
       " 'get': True,\n",
       " 'girl': True,\n",
       " 'gives': True,\n",
       " 'gnarled': True,\n",
       " 'going': True,\n",
       " 'grabs': True,\n",
       " 'graffiti': True,\n",
       " 'grand': True,\n",
       " 'great': True,\n",
       " 'grip': True,\n",
       " 'grizzled': True,\n",
       " 'guaranteed': True,\n",
       " 'gun': True,\n",
       " 'had': True,\n",
       " 'hair': True,\n",
       " 'hamilton': True,\n",
       " 'has': True,\n",
       " 'hasn': True,\n",
       " 'have': True,\n",
       " 'having': True,\n",
       " 'he': True,\n",
       " 'help': True,\n",
       " 'here': True,\n",
       " 'him': True,\n",
       " 'his': True,\n",
       " 'hitchcock': True,\n",
       " 'hits': True,\n",
       " 'hollywood': True,\n",
       " 'hooper': True,\n",
       " 'horror': True,\n",
       " 'how': True,\n",
       " 'however': True,\n",
       " 'humor': True,\n",
       " 'hunt': True,\n",
       " 'hunted': True,\n",
       " 'husband': True,\n",
       " 'ii': True,\n",
       " 'image': True,\n",
       " 'imagery': True,\n",
       " 'improve': True,\n",
       " 'in': True,\n",
       " 'including': True,\n",
       " 'incredible': True,\n",
       " 'indianapolis': True,\n",
       " 'inevitably': True,\n",
       " 'infamous': True,\n",
       " 'insatiable': True,\n",
       " 'instead': True,\n",
       " 'institute': True,\n",
       " 'into': True,\n",
       " 'is': True,\n",
       " 'island': True,\n",
       " 'it': True,\n",
       " 'its': True,\n",
       " 'itself': True,\n",
       " 'japanese': True,\n",
       " 'jaws': True,\n",
       " 'job': True,\n",
       " 'john': True,\n",
       " 'join': True,\n",
       " 'joined': True,\n",
       " 'july': True,\n",
       " 'just': True,\n",
       " 'keen': True,\n",
       " 'kids': True,\n",
       " 'killer': True,\n",
       " 'know': True,\n",
       " 'knowledge': True,\n",
       " 'known': True,\n",
       " 'kravitz': True,\n",
       " 'large': True,\n",
       " 'larry': True,\n",
       " 'late': True,\n",
       " 'lead': True,\n",
       " 'leave': True,\n",
       " 'legs': True,\n",
       " 'let': True,\n",
       " 'lets': True,\n",
       " 'like': True,\n",
       " 'limitations': True,\n",
       " 'literally': True,\n",
       " 'loner': True,\n",
       " 'long': True,\n",
       " 'look': True,\n",
       " 'machine': True,\n",
       " 'machismo': True,\n",
       " 'made': True,\n",
       " 'make': True,\n",
       " 'makes': True,\n",
       " 'mankind': True,\n",
       " 'many': True,\n",
       " 'marine': True,\n",
       " 'martin': True,\n",
       " 'masochism': True,\n",
       " 'matt': True,\n",
       " 'mature': True,\n",
       " 'may': True,\n",
       " 'mayor': True,\n",
       " 'mechanical': True,\n",
       " 'men': True,\n",
       " 'merely': True,\n",
       " 'middle': True,\n",
       " 'midnight': True,\n",
       " 'modern': True,\n",
       " 'money': True,\n",
       " 'more': True,\n",
       " 'most': True,\n",
       " 'movie': True,\n",
       " 'movies': True,\n",
       " 'much': True,\n",
       " 'murder': True,\n",
       " 'murray': True,\n",
       " 'music': True,\n",
       " 'named': True,\n",
       " 'nature': True,\n",
       " 'navy': True,\n",
       " 'nemesis': True,\n",
       " 'never': True,\n",
       " 'nevertheless': True,\n",
       " 'new': True,\n",
       " 'newman': True,\n",
       " 'nicknamed': True,\n",
       " 'no': True,\n",
       " 'none': True,\n",
       " 'notes': True,\n",
       " 'now': True,\n",
       " 'obsolete': True,\n",
       " 'obstacles': True,\n",
       " 'ocean': True,\n",
       " 'of': True,\n",
       " 'office': True,\n",
       " 'old': True,\n",
       " 'ominous': True,\n",
       " 'on': True,\n",
       " 'once': True,\n",
       " 'one': True,\n",
       " 'only': True,\n",
       " 'opens': True,\n",
       " 'or': True,\n",
       " 'orca': True,\n",
       " 'other': True,\n",
       " 'out': True,\n",
       " 'outstanding': True,\n",
       " 'over': True,\n",
       " 'overcame': True,\n",
       " 'overkill': True,\n",
       " 'overlooked': True,\n",
       " 'overruns': True,\n",
       " 'overshadowed': True,\n",
       " 'pacing': True,\n",
       " 'par': True,\n",
       " 'parody': True,\n",
       " 'paul': True,\n",
       " 'peaceful': True,\n",
       " 'perfect': True,\n",
       " 'performance': True,\n",
       " 'perhaps': True,\n",
       " 'photography': True,\n",
       " 'place': True,\n",
       " 'played': True,\n",
       " 'plays': True,\n",
       " 'police': True,\n",
       " 'political': True,\n",
       " 'precursor': True,\n",
       " 'presence': True,\n",
       " 'previously': True,\n",
       " 'primal': True,\n",
       " 'produced': True,\n",
       " 'production': True,\n",
       " 'psycho': True,\n",
       " 'put': True,\n",
       " 'quagmire': True,\n",
       " 'queasy': True,\n",
       " 'quint': True,\n",
       " 'raising': True,\n",
       " 'rare': True,\n",
       " 'ready': True,\n",
       " 'real': True,\n",
       " 'redford': True,\n",
       " 'refused': True,\n",
       " 'refuses': True,\n",
       " 'relents': True,\n",
       " 'reliant': True,\n",
       " 'relinquishes': True,\n",
       " 'rely': True,\n",
       " 'resort': True,\n",
       " 'restraint': True,\n",
       " 'richard': True,\n",
       " 'right': True,\n",
       " 'robert': True,\n",
       " 'rolled': True,\n",
       " 'rows': True,\n",
       " 'roy': True,\n",
       " 'running': True,\n",
       " 's': True,\n",
       " 'scare': True,\n",
       " 'scars': True,\n",
       " 'scene': True,\n",
       " 'scheider': True,\n",
       " 'score': True,\n",
       " 'screen': True,\n",
       " 'search': True,\n",
       " 'second': True,\n",
       " 'see': True,\n",
       " 'seems': True,\n",
       " 'seen': True,\n",
       " 'sense': True,\n",
       " 'sequences': True,\n",
       " 'several': True,\n",
       " 'shaken': True,\n",
       " 'shark': True,\n",
       " 'sharks': True,\n",
       " 'sharp': True,\n",
       " 'shaw': True,\n",
       " 'ship': True,\n",
       " 'shot': True,\n",
       " 'shots': True,\n",
       " 'show': True,\n",
       " 'shows': True,\n",
       " 'shut': True,\n",
       " 'simply': True,\n",
       " 'sinch': True,\n",
       " 'single': True,\n",
       " 'slightly': True,\n",
       " 'slowly': True,\n",
       " 'so': True,\n",
       " 'soggy': True,\n",
       " 'someone': True,\n",
       " 'sorely': True,\n",
       " 'sort': True,\n",
       " 'sounds': True,\n",
       " 'spielberg': True,\n",
       " 'star': True,\n",
       " 'station': True,\n",
       " 'steven': True,\n",
       " 'stop': True,\n",
       " 'storm': True,\n",
       " 'story': True,\n",
       " 'studios': True,\n",
       " 'subjective': True,\n",
       " 'successful': True,\n",
       " 'such': True,\n",
       " 'suggests': True,\n",
       " 'summer': True,\n",
       " 'sunk': True,\n",
       " 'surprisingly': True,\n",
       " 'survived': True,\n",
       " 'swarms': True,\n",
       " 'swim': True,\n",
       " 'sympathetic': True,\n",
       " 't': True,\n",
       " 'take': True,\n",
       " 'taken': True,\n",
       " 'takes': True,\n",
       " 'taking': True,\n",
       " 'tale': True,\n",
       " 'technical': True,\n",
       " 'technology': True,\n",
       " 'teenagers': True,\n",
       " 'teeth': True,\n",
       " 'telling': True,\n",
       " 'ten': True,\n",
       " 'tension': True,\n",
       " 'terrifying': True,\n",
       " 'than': True,\n",
       " 'that': True,\n",
       " 'the': True,\n",
       " 'theatrical': True,\n",
       " 'them': True,\n",
       " 'then': True,\n",
       " 'there': True,\n",
       " 'they': True,\n",
       " 'this': True,\n",
       " 'threat': True,\n",
       " 'threatening': True,\n",
       " 'three': True,\n",
       " 'thriller': True,\n",
       " 'thrillers': True,\n",
       " 'time': True,\n",
       " 'to': True,\n",
       " 'today': True,\n",
       " 'took': True,\n",
       " 'tourist': True,\n",
       " 'town': True,\n",
       " 'traditional': True,\n",
       " 'truly': True,\n",
       " 'turns': True,\n",
       " 'u': True,\n",
       " 'unceremoniously': True,\n",
       " 'underwater': True,\n",
       " 'universal': True,\n",
       " 'unknown': True,\n",
       " 'unlike': True,\n",
       " 'unprotected': True,\n",
       " 'until': True,\n",
       " 'up': True,\n",
       " 'urge': True,\n",
       " 'us': True,\n",
       " 'vaughn': True,\n",
       " 'vicious': True,\n",
       " 'vulnerable': True,\n",
       " 'want': True,\n",
       " 'war': True,\n",
       " 'warns': True,\n",
       " 'wars': True,\n",
       " 'was': True,\n",
       " 'wastes': True,\n",
       " 'water': True,\n",
       " 'waterworld': True,\n",
       " 'we': True,\n",
       " 'week': True,\n",
       " 'were': True,\n",
       " 'what': True,\n",
       " 'when': True,\n",
       " 'where': True,\n",
       " 'while': True,\n",
       " 'white': True,\n",
       " 'whites': True,\n",
       " 'who': True,\n",
       " 'whose': True,\n",
       " 'williams': True,\n",
       " 'with': True,\n",
       " 'wonder': True,\n",
       " 'workings': True,\n",
       " 'works': True,\n",
       " 'world': True,\n",
       " 'worried': True,\n",
       " 'would': True,\n",
       " 'writihing': True,\n",
       " 'years': True,\n",
       " 'york': True,\n",
       " 'you': True,\n",
       " 'young': True,\n",
       " 'your': True}"
      ]
     },
     "execution_count": 12,
     "metadata": {},
     "output_type": "execute_result"
    }
   ],
   "source": [
    "# lets try it on a review \n",
    "build_bag_of_words_features(list_of_words)"
   ]
  },
  {
   "cell_type": "code",
   "execution_count": 13,
   "metadata": {},
   "outputs": [
    {
     "name": "stdout",
     "output_type": "stream",
     "text": [
      "[nltk_data] Downloading package stopwords to\n",
      "[nltk_data]     C:\\Users\\HarshLaptop\\AppData\\Roaming\\nltk_data...\n",
      "[nltk_data]   Unzipping corpora\\stopwords.zip.\n"
     ]
    },
    {
     "data": {
      "text/plain": [
       "True"
      ]
     },
     "execution_count": 13,
     "metadata": {},
     "output_type": "execute_result"
    }
   ],
   "source": [
    "# Now we will remove the stopwords \n",
    "nltk.download(\"stopwords\")"
   ]
  },
  {
   "cell_type": "code",
   "execution_count": 14,
   "metadata": {},
   "outputs": [
    {
     "data": {
      "text/plain": [
       "'!\"#$%&\\'()*+,-./:;<=>?@[\\\\]^_`{|}~'"
      ]
     },
     "execution_count": 14,
     "metadata": {},
     "output_type": "execute_result"
    }
   ],
   "source": [
    "import string \n",
    "string.punctuation "
   ]
  },
  {
   "cell_type": "code",
   "execution_count": 15,
   "metadata": {},
   "outputs": [
    {
     "data": {
      "text/plain": [
       "list"
      ]
     },
     "execution_count": 15,
     "metadata": {},
     "output_type": "execute_result"
    }
   ],
   "source": [
    "# now we'll filter out the punctuation and useless words(stopwords)\n",
    "useless_words = nltk.corpus.stopwords.words(\"english\") + list(string.punctuation)\n",
    "type(useless_words)"
   ]
  },
  {
   "cell_type": "code",
   "execution_count": 16,
   "metadata": {
    "collapsed": true
   },
   "outputs": [],
   "source": [
    "def build_bag_of_words_features_filtered(words):\n",
    "    return {word : 1 for word in words if not word in useless_words}"
   ]
  },
  {
   "cell_type": "code",
   "execution_count": 17,
   "metadata": {},
   "outputs": [
    {
     "data": {
      "text/plain": [
       "{'--': 1,\n",
       " '000': 1,\n",
       " '1': 1,\n",
       " '1973': 1,\n",
       " '1974': 1,\n",
       " '1975': 1,\n",
       " '1977': 1,\n",
       " '1995': 1,\n",
       " '25': 1,\n",
       " 'aboard': 1,\n",
       " 'academy': 1,\n",
       " 'act': 1,\n",
       " 'acting': 1,\n",
       " 'actors': 1,\n",
       " 'actual': 1,\n",
       " 'actually': 1,\n",
       " 'age': 1,\n",
       " 'ahab': 1,\n",
       " 'alien': 1,\n",
       " 'almost': 1,\n",
       " 'although': 1,\n",
       " 'ambitious': 1,\n",
       " 'america': 1,\n",
       " 'american': 1,\n",
       " 'amity': 1,\n",
       " 'angles': 1,\n",
       " 'anything': 1,\n",
       " 'apprenticeship': 1,\n",
       " 'arrival': 1,\n",
       " 'attacked': 1,\n",
       " 'attacks': 1,\n",
       " 'attention': 1,\n",
       " 'audience': 1,\n",
       " 'awards': 1,\n",
       " 'away': 1,\n",
       " 'bars': 1,\n",
       " 'basically': 1,\n",
       " 'beaches': 1,\n",
       " 'beautiful': 1,\n",
       " 'best': 1,\n",
       " 'better': 1,\n",
       " 'bit': 1,\n",
       " 'black': 1,\n",
       " 'blackness': 1,\n",
       " 'boat': 1,\n",
       " 'bomb': 1,\n",
       " 'bordering': 1,\n",
       " 'borders': 1,\n",
       " 'bored': 1,\n",
       " 'box': 1,\n",
       " 'brody': 1,\n",
       " 'bruce': 1,\n",
       " 'building': 1,\n",
       " 'builds': 1,\n",
       " 'built': 1,\n",
       " 'bunch': 1,\n",
       " 'captain': 1,\n",
       " 'careers': 1,\n",
       " 'caricature': 1,\n",
       " 'caught': 1,\n",
       " 'champ': 1,\n",
       " 'characterization': 1,\n",
       " 'chief': 1,\n",
       " 'chomped': 1,\n",
       " 'cinematic': 1,\n",
       " 'climax': 1,\n",
       " 'combination': 1,\n",
       " 'come': 1,\n",
       " 'comes': 1,\n",
       " 'comparing': 1,\n",
       " 'completely': 1,\n",
       " 'complex': 1,\n",
       " 'composer': 1,\n",
       " 'cop': 1,\n",
       " 'cost': 1,\n",
       " 'could': 1,\n",
       " 'course': 1,\n",
       " 'creative': 1,\n",
       " 'creepy': 1,\n",
       " 'crew': 1,\n",
       " 'crown': 1,\n",
       " 'crusty': 1,\n",
       " 'dah': 1,\n",
       " 'dangling': 1,\n",
       " 'deadly': 1,\n",
       " 'deal': 1,\n",
       " 'deck': 1,\n",
       " 'decrepit': 1,\n",
       " 'delivered': 1,\n",
       " 'delivers': 1,\n",
       " 'deranged': 1,\n",
       " 'determined': 1,\n",
       " 'dethroned': 1,\n",
       " 'devoured': 1,\n",
       " 'different': 1,\n",
       " 'digital': 1,\n",
       " 'dinosaurs': 1,\n",
       " 'director': 1,\n",
       " 'distant': 1,\n",
       " 'dousing': 1,\n",
       " 'draw': 1,\n",
       " 'drawn': 1,\n",
       " 'dreyfuss': 1,\n",
       " 'duddy': 1,\n",
       " 'dum': 1,\n",
       " 'easy': 1,\n",
       " 'eat': 1,\n",
       " 'eating': 1,\n",
       " 'editing': 1,\n",
       " 'effects': 1,\n",
       " 'elements': 1,\n",
       " 'endless': 1,\n",
       " 'engine': 1,\n",
       " 'england': 1,\n",
       " 'enough': 1,\n",
       " 'entire': 1,\n",
       " 'epitome': 1,\n",
       " 'even': 1,\n",
       " 'ever': 1,\n",
       " 'every': 1,\n",
       " 'exact': 1,\n",
       " 'exist': 1,\n",
       " 'exists': 1,\n",
       " 'experiences': 1,\n",
       " 'expert': 1,\n",
       " 'eyes': 1,\n",
       " 'faced': 1,\n",
       " 'fascinated': 1,\n",
       " 'fascination': 1,\n",
       " 'father': 1,\n",
       " 'fears': 1,\n",
       " 'feel': 1,\n",
       " 'fictitious': 1,\n",
       " 'film': 1,\n",
       " 'filmmakers': 1,\n",
       " 'finally': 1,\n",
       " 'finest': 1,\n",
       " 'fired': 1,\n",
       " 'first': 1,\n",
       " 'five': 1,\n",
       " 'floating': 1,\n",
       " 'footage': 1,\n",
       " 'forced': 1,\n",
       " 'forgotten': 1,\n",
       " 'fourth': 1,\n",
       " 'gave': 1,\n",
       " 'get': 1,\n",
       " 'girl': 1,\n",
       " 'gives': 1,\n",
       " 'gnarled': 1,\n",
       " 'going': 1,\n",
       " 'grabs': 1,\n",
       " 'graffiti': 1,\n",
       " 'grand': 1,\n",
       " 'great': 1,\n",
       " 'grip': 1,\n",
       " 'grizzled': 1,\n",
       " 'guaranteed': 1,\n",
       " 'gun': 1,\n",
       " 'hair': 1,\n",
       " 'hamilton': 1,\n",
       " 'help': 1,\n",
       " 'hitchcock': 1,\n",
       " 'hits': 1,\n",
       " 'hollywood': 1,\n",
       " 'hooper': 1,\n",
       " 'horror': 1,\n",
       " 'however': 1,\n",
       " 'humor': 1,\n",
       " 'hunt': 1,\n",
       " 'hunted': 1,\n",
       " 'husband': 1,\n",
       " 'ii': 1,\n",
       " 'image': 1,\n",
       " 'imagery': 1,\n",
       " 'improve': 1,\n",
       " 'including': 1,\n",
       " 'incredible': 1,\n",
       " 'indianapolis': 1,\n",
       " 'inevitably': 1,\n",
       " 'infamous': 1,\n",
       " 'insatiable': 1,\n",
       " 'instead': 1,\n",
       " 'institute': 1,\n",
       " 'island': 1,\n",
       " 'japanese': 1,\n",
       " 'jaws': 1,\n",
       " 'job': 1,\n",
       " 'john': 1,\n",
       " 'join': 1,\n",
       " 'joined': 1,\n",
       " 'july': 1,\n",
       " 'keen': 1,\n",
       " 'kids': 1,\n",
       " 'killer': 1,\n",
       " 'know': 1,\n",
       " 'knowledge': 1,\n",
       " 'known': 1,\n",
       " 'kravitz': 1,\n",
       " 'large': 1,\n",
       " 'larry': 1,\n",
       " 'late': 1,\n",
       " 'lead': 1,\n",
       " 'leave': 1,\n",
       " 'legs': 1,\n",
       " 'let': 1,\n",
       " 'lets': 1,\n",
       " 'like': 1,\n",
       " 'limitations': 1,\n",
       " 'literally': 1,\n",
       " 'loner': 1,\n",
       " 'long': 1,\n",
       " 'look': 1,\n",
       " 'machine': 1,\n",
       " 'machismo': 1,\n",
       " 'made': 1,\n",
       " 'make': 1,\n",
       " 'makes': 1,\n",
       " 'mankind': 1,\n",
       " 'many': 1,\n",
       " 'marine': 1,\n",
       " 'martin': 1,\n",
       " 'masochism': 1,\n",
       " 'matt': 1,\n",
       " 'mature': 1,\n",
       " 'may': 1,\n",
       " 'mayor': 1,\n",
       " 'mechanical': 1,\n",
       " 'men': 1,\n",
       " 'merely': 1,\n",
       " 'middle': 1,\n",
       " 'midnight': 1,\n",
       " 'modern': 1,\n",
       " 'money': 1,\n",
       " 'movie': 1,\n",
       " 'movies': 1,\n",
       " 'much': 1,\n",
       " 'murder': 1,\n",
       " 'murray': 1,\n",
       " 'music': 1,\n",
       " 'named': 1,\n",
       " 'nature': 1,\n",
       " 'navy': 1,\n",
       " 'nemesis': 1,\n",
       " 'never': 1,\n",
       " 'nevertheless': 1,\n",
       " 'new': 1,\n",
       " 'newman': 1,\n",
       " 'nicknamed': 1,\n",
       " 'none': 1,\n",
       " 'notes': 1,\n",
       " 'obsolete': 1,\n",
       " 'obstacles': 1,\n",
       " 'ocean': 1,\n",
       " 'office': 1,\n",
       " 'old': 1,\n",
       " 'ominous': 1,\n",
       " 'one': 1,\n",
       " 'opens': 1,\n",
       " 'orca': 1,\n",
       " 'outstanding': 1,\n",
       " 'overcame': 1,\n",
       " 'overkill': 1,\n",
       " 'overlooked': 1,\n",
       " 'overruns': 1,\n",
       " 'overshadowed': 1,\n",
       " 'pacing': 1,\n",
       " 'par': 1,\n",
       " 'parody': 1,\n",
       " 'paul': 1,\n",
       " 'peaceful': 1,\n",
       " 'perfect': 1,\n",
       " 'performance': 1,\n",
       " 'perhaps': 1,\n",
       " 'photography': 1,\n",
       " 'place': 1,\n",
       " 'played': 1,\n",
       " 'plays': 1,\n",
       " 'police': 1,\n",
       " 'political': 1,\n",
       " 'precursor': 1,\n",
       " 'presence': 1,\n",
       " 'previously': 1,\n",
       " 'primal': 1,\n",
       " 'produced': 1,\n",
       " 'production': 1,\n",
       " 'psycho': 1,\n",
       " 'put': 1,\n",
       " 'quagmire': 1,\n",
       " 'queasy': 1,\n",
       " 'quint': 1,\n",
       " 'raising': 1,\n",
       " 'rare': 1,\n",
       " 'ready': 1,\n",
       " 'real': 1,\n",
       " 'redford': 1,\n",
       " 'refused': 1,\n",
       " 'refuses': 1,\n",
       " 'relents': 1,\n",
       " 'reliant': 1,\n",
       " 'relinquishes': 1,\n",
       " 'rely': 1,\n",
       " 'resort': 1,\n",
       " 'restraint': 1,\n",
       " 'richard': 1,\n",
       " 'right': 1,\n",
       " 'robert': 1,\n",
       " 'rolled': 1,\n",
       " 'rows': 1,\n",
       " 'roy': 1,\n",
       " 'running': 1,\n",
       " 'scare': 1,\n",
       " 'scars': 1,\n",
       " 'scene': 1,\n",
       " 'scheider': 1,\n",
       " 'score': 1,\n",
       " 'screen': 1,\n",
       " 'search': 1,\n",
       " 'second': 1,\n",
       " 'see': 1,\n",
       " 'seems': 1,\n",
       " 'seen': 1,\n",
       " 'sense': 1,\n",
       " 'sequences': 1,\n",
       " 'several': 1,\n",
       " 'shaken': 1,\n",
       " 'shark': 1,\n",
       " 'sharks': 1,\n",
       " 'sharp': 1,\n",
       " 'shaw': 1,\n",
       " 'ship': 1,\n",
       " 'shot': 1,\n",
       " 'shots': 1,\n",
       " 'show': 1,\n",
       " 'shows': 1,\n",
       " 'shut': 1,\n",
       " 'simply': 1,\n",
       " 'sinch': 1,\n",
       " 'single': 1,\n",
       " 'slightly': 1,\n",
       " 'slowly': 1,\n",
       " 'soggy': 1,\n",
       " 'someone': 1,\n",
       " 'sorely': 1,\n",
       " 'sort': 1,\n",
       " 'sounds': 1,\n",
       " 'spielberg': 1,\n",
       " 'star': 1,\n",
       " 'station': 1,\n",
       " 'steven': 1,\n",
       " 'stop': 1,\n",
       " 'storm': 1,\n",
       " 'story': 1,\n",
       " 'studios': 1,\n",
       " 'subjective': 1,\n",
       " 'successful': 1,\n",
       " 'suggests': 1,\n",
       " 'summer': 1,\n",
       " 'sunk': 1,\n",
       " 'surprisingly': 1,\n",
       " 'survived': 1,\n",
       " 'swarms': 1,\n",
       " 'swim': 1,\n",
       " 'sympathetic': 1,\n",
       " 'take': 1,\n",
       " 'taken': 1,\n",
       " 'takes': 1,\n",
       " 'taking': 1,\n",
       " 'tale': 1,\n",
       " 'technical': 1,\n",
       " 'technology': 1,\n",
       " 'teenagers': 1,\n",
       " 'teeth': 1,\n",
       " 'telling': 1,\n",
       " 'ten': 1,\n",
       " 'tension': 1,\n",
       " 'terrifying': 1,\n",
       " 'theatrical': 1,\n",
       " 'threat': 1,\n",
       " 'threatening': 1,\n",
       " 'three': 1,\n",
       " 'thriller': 1,\n",
       " 'thrillers': 1,\n",
       " 'time': 1,\n",
       " 'today': 1,\n",
       " 'took': 1,\n",
       " 'tourist': 1,\n",
       " 'town': 1,\n",
       " 'traditional': 1,\n",
       " 'truly': 1,\n",
       " 'turns': 1,\n",
       " 'u': 1,\n",
       " 'unceremoniously': 1,\n",
       " 'underwater': 1,\n",
       " 'universal': 1,\n",
       " 'unknown': 1,\n",
       " 'unlike': 1,\n",
       " 'unprotected': 1,\n",
       " 'urge': 1,\n",
       " 'us': 1,\n",
       " 'vaughn': 1,\n",
       " 'vicious': 1,\n",
       " 'vulnerable': 1,\n",
       " 'want': 1,\n",
       " 'war': 1,\n",
       " 'warns': 1,\n",
       " 'wars': 1,\n",
       " 'wastes': 1,\n",
       " 'water': 1,\n",
       " 'waterworld': 1,\n",
       " 'week': 1,\n",
       " 'white': 1,\n",
       " 'whites': 1,\n",
       " 'whose': 1,\n",
       " 'williams': 1,\n",
       " 'wonder': 1,\n",
       " 'workings': 1,\n",
       " 'works': 1,\n",
       " 'world': 1,\n",
       " 'worried': 1,\n",
       " 'would': 1,\n",
       " 'writihing': 1,\n",
       " 'years': 1,\n",
       " 'york': 1,\n",
       " 'young': 1}"
      ]
     },
     "execution_count": 17,
     "metadata": {},
     "output_type": "execute_result"
    }
   ],
   "source": [
    "build_bag_of_words_features_filtered(list_of_words)"
   ]
  },
  {
   "cell_type": "code",
   "execution_count": 18,
   "metadata": {},
   "outputs": [
    {
     "data": {
      "text/plain": [
       "1.58382"
      ]
     },
     "execution_count": 18,
     "metadata": {},
     "output_type": "execute_result"
    }
   ],
   "source": [
    "# its common to explore the dataset before analysis. we'll plot the frequencies of the words and find the most common word\n",
    "all_words = movie_reviews.words()\n",
    "len(all_words)/1e6"
   ]
  },
  {
   "cell_type": "code",
   "execution_count": 19,
   "metadata": {},
   "outputs": [
    {
     "data": {
      "text/plain": [
       "0.710579"
      ]
     },
     "execution_count": 19,
     "metadata": {},
     "output_type": "execute_result"
    }
   ],
   "source": [
    "# Now well filter out the useless words l\n",
    "filtered_words = [word for word in movie_reviews.words() if not word in useless_words]\n",
    "len(filtered_words)/1e6"
   ]
  },
  {
   "cell_type": "code",
   "execution_count": 20,
   "metadata": {
    "collapsed": true
   },
   "outputs": [],
   "source": [
    "# Now well count the frequency of each word. For this, well use counter from collections package \n",
    "from collections import Counter \n",
    "\n",
    "word_counter = Counter(filtered_words)"
   ]
  },
  {
   "cell_type": "code",
   "execution_count": 21,
   "metadata": {
    "collapsed": true
   },
   "outputs": [],
   "source": [
    "# now using the method most_common() we can get word with higher frequecny\n",
    "most_common_words = word_counter.most_common()[: 10]"
   ]
  },
  {
   "cell_type": "code",
   "execution_count": 22,
   "metadata": {},
   "outputs": [
    {
     "data": {
      "text/plain": [
       "[('film', 9517),\n",
       " ('one', 5852),\n",
       " ('movie', 5771),\n",
       " ('like', 3690),\n",
       " ('even', 2565),\n",
       " ('good', 2411),\n",
       " ('time', 2411),\n",
       " ('story', 2169),\n",
       " ('would', 2109),\n",
       " ('much', 2049)]"
      ]
     },
     "execution_count": 22,
     "metadata": {},
     "output_type": "execute_result"
    }
   ],
   "source": [
    "most_common_words "
   ]
  },
  {
   "cell_type": "code",
   "execution_count": 50,
   "metadata": {
    "collapsed": true
   },
   "outputs": [],
   "source": [
    "%matplotlib inline\n",
    "import matplotlib.pyplot as plt"
   ]
  },
  {
   "cell_type": "code",
   "execution_count": 51,
   "metadata": {},
   "outputs": [
    {
     "data": {
      "image/png": "[encoded data removed]",
      "text/plain": [
       "<matplotlib.figure.Figure at 0xabccdf9278>"
      ]
     },
     "metadata": {},
     "output_type": "display_data"
    }
   ],
   "source": [
    "sorted_word_counts = sorted(list(word_counter.values()), reverse=True)\n",
    "\n",
    "plt.loglog(sorted_word_counts)\n",
    "plt.ylabel(\"Freq\")\n",
    "plt.xlabel(\"Word Rank\");"
   ]
  },
  {
   "cell_type": "code",
   "execution_count": 52,
   "metadata": {},
   "outputs": [
    {
     "data": {
      "image/png": "[encoded data removed]",
      "text/plain": [
       "<matplotlib.figure.Figure at 0xabcce8b4e0>"
      ]
     },
     "metadata": {},
     "output_type": "display_data"
    }
   ],
   "source": [
    "plt.hist(sorted_word_counts, bins=50);"
   ]
  },
  {
   "cell_type": "code",
   "execution_count": 53,
   "metadata": {},
   "outputs": [
    {
     "data": {
      "image/png": "[encoded data removed]",
      "text/plain": [
       "<matplotlib.figure.Figure at 0xabccf53940>"
      ]
     },
     "metadata": {},
     "output_type": "display_data"
    }
   ],
   "source": [
    "plt.hist(sorted_word_counts, bins=50, log=True);"
   ]
  },
  {
   "cell_type": "code",
   "execution_count": 54,
   "metadata": {
    "collapsed": true
   },
   "outputs": [],
   "source": [
    "# Now we'll train a classifier for sentiment analysis \n",
    "negative_features = [\n",
    "    (build_bag_of_words_features_filtered(movie_reviews.words(fileids=[f])), 'neg') \\\n",
    "    for f in negative_fileids\n",
    "]"
   ]
  },
  {
   "cell_type": "code",
   "execution_count": 55,
   "metadata": {},
   "outputs": [
    {
     "name": "stdout",
     "output_type": "stream",
     "text": [
      "({'quest': 1, 'camelot': 1, 'warner': 1, 'bros': 1, 'first': 1, 'feature': 1, 'length': 1, 'fully': 1, 'animated': 1, 'attempt': 1, 'steal': 1, 'clout': 1, 'disney': 1, 'cartoon': 1, 'empire': 1, 'mouse': 1, 'reason': 1, 'worried': 1, 'recent': 1, 'challenger': 1, 'throne': 1, 'last': 1, 'fall': 1, 'promising': 1, 'flawed': 1, '20th': 1, 'century': 1, 'fox': 1, 'production': 1, 'anastasia': 1, 'hercules': 1, 'lively': 1, 'cast': 1, 'colorful': 1, 'palate': 1, 'beat': 1, 'hands': 1, 'came': 1, 'time': 1, 'crown': 1, '1997': 1, 'best': 1, 'piece': 1, 'animation': 1, 'year': 1, 'contest': 1, 'pretty': 1, 'much': 1, 'dead': 1, 'arrival': 1, 'even': 1, 'magic': 1, 'kingdom': 1, 'mediocre': 1, '--': 1, 'pocahontas': 1, 'keeping': 1, 'score': 1, 'nearly': 1, 'dull': 1, 'story': 1, 'revolves': 1, 'around': 1, 'adventures': 1, 'free': 1, 'spirited': 1, 'kayley': 1, 'voiced': 1, 'jessalyn': 1, 'gilsig': 1, 'early': 1, 'teen': 1, 'daughter': 1, 'belated': 1, 'knight': 1, 'king': 1, 'arthur': 1, 'round': 1, 'table': 1, 'dream': 1, 'follow': 1, 'father': 1, 'footsteps': 1, 'gets': 1, 'chance': 1, 'evil': 1, 'warlord': 1, 'ruber': 1, 'gary': 1, 'oldman': 1, 'ex': 1, 'member': 1, 'gone': 1, 'bad': 1, 'steals': 1, 'magical': 1, 'sword': 1, 'excalibur': 1, 'accidentally': 1, 'loses': 1, 'dangerous': 1, 'booby': 1, 'trapped': 1, 'forest': 1, 'help': 1, 'hunky': 1, 'blind': 1, 'timberland': 1, 'dweller': 1, 'garrett': 1, 'carey': 1, 'elwes': 1, 'two': 1, 'headed': 1, 'dragon': 1, 'eric': 1, 'idle': 1, 'rickles': 1, 'always': 1, 'arguing': 1, 'might': 1, 'able': 1, 'break': 1, 'medieval': 1, 'sexist': 1, 'mold': 1, 'prove': 1, 'worth': 1, 'fighter': 1, 'side': 1, 'missing': 1, 'pure': 1, 'showmanship': 1, 'essential': 1, 'element': 1, 'ever': 1, 'expected': 1, 'climb': 1, 'high': 1, 'ranks': 1, 'nothing': 1, 'differentiates': 1, 'something': 1, 'see': 1, 'given': 1, 'saturday': 1, 'morning': 1, 'subpar': 1, 'instantly': 1, 'forgettable': 1, 'songs': 1, 'poorly': 1, 'integrated': 1, 'computerized': 1, 'footage': 1, 'compare': 1, 'run': 1, 'angry': 1, 'ogre': 1, 'herc': 1, 'battle': 1, 'hydra': 1, 'rest': 1, 'case': 1, 'characters': 1, 'stink': 1, 'none': 1, 'remotely': 1, 'interesting': 1, 'film': 1, 'becomes': 1, 'race': 1, 'one': 1, 'bland': 1, 'others': 1, 'end': 1, 'tie': 1, 'win': 1, 'comedy': 1, 'shtick': 1, 'awfully': 1, 'cloying': 1, 'least': 1, 'shows': 1, 'signs': 1, 'pulse': 1, 'fans': 1, \"-'\": 1, '90s': 1, 'tgif': 1, 'television': 1, 'line': 1, 'thrilled': 1, 'find': 1, 'jaleel': 1, 'urkel': 1, 'white': 1, 'bronson': 1, 'balki': 1, 'pinchot': 1, 'sharing': 1, 'scenes': 1, 'nicely': 1, 'realized': 1, 'though': 1, 'loss': 1, 'recall': 1, 'enough': 1, 'specific': 1, 'actors': 1, 'providing': 1, 'voice': 1, 'talent': 1, 'enthusiastic': 1, 'paired': 1, 'singers': 1, 'sound': 1, 'thing': 1, 'like': 1, 'big': 1, 'musical': 1, 'moments': 1, 'jane': 1, 'seymour': 1, 'celine': 1, 'dion': 1, 'must': 1, 'strain': 1, 'mess': 1, 'good': 1, 'aside': 1, 'fact': 1, 'children': 1, 'probably': 1, 'bored': 1, 'watching': 1, 'adults': 1, 'grievous': 1, 'error': 1, 'complete': 1, 'lack': 1, 'personality': 1, 'learn': 1, 'goes': 1, 'long': 1, 'way': 1}, 'neg')\n"
     ]
    }
   ],
   "source": [
    "print(negative_features[3])"
   ]
  },
  {
   "cell_type": "code",
   "execution_count": 56,
   "metadata": {
    "collapsed": true
   },
   "outputs": [],
   "source": [
    "positive_features = [\n",
    "    (build_bag_of_words_features_filtered(movie_reviews.words(fileids=[f])), 'pos') \\\n",
    "    for f in positive_fileids\n",
    "]"
   ]
  },
  {
   "cell_type": "code",
   "execution_count": 57,
   "metadata": {},
   "outputs": [
    {
     "name": "stdout",
     "output_type": "stream",
     "text": [
      "({'apparently': 1, 'director': 1, 'tony': 1, 'kaye': 1, 'major': 1, 'battle': 1, 'new': 1, 'line': 1, 'regarding': 1, 'film': 1, 'american': 1, 'history': 1, 'x': 1, 'know': 1, 'details': 1, 'fight': 1, 'seems': 1, 'happy': 1, 'final': 1, 'product': 1, 'nearly': 1, 'removed': 1, 'name': 1, 'credits': 1, 'altogether': 1, 'heard': 1, 'kind': 1, 'thing': 1, 'happening': 1, 'makes': 1, 'wonder': 1, 'much': 1, 'input': 1, 'studio': 1, 'films': 1, 'produce': 1, 'found': 1, 'extremely': 1, 'good': 1, 'focused': 1, 'look': 1, 'touchy': 1, 'subject': 1, 'racism': 1, 'powerful': 1, 'charismatic': 1, 'performance': 1, 'edward': 1, 'norton': 1, 'hard': 1, 'believe': 1, 'two': 1, 'years': 1, 'since': 1, 'fantastic': 1, 'role': 1, 'primal': 1, 'fear': 1, 'starring': 1, 'making': 1, 'star': 1, 'one': 1, 'performers': 1, 'becomes': 1, 'character': 1, 'work': 1, 'best': 1, 'performances': 1, 'year': 1, 'plays': 1, 'young': 1, 'man': 1, 'named': 1, 'derek': 1, 'vinyard': 1, 'skinhead': 1, 'living': 1, 'venice': 1, 'beach': 1, 'brother': 1, 'danny': 1, 'furlong': 1, 'mother': 1, 'beverly': 1, 'angelo': 1, 'sister': 1, 'davin': 1, 'jennifer': 1, 'lien': 1, 'opens': 1, 'flashback': 1, 'brutally': 1, 'kills': 1, 'black': 1, 'men': 1, 'vandalizing': 1, 'car': 1, 'find': 1, 'lands': 1, 'prison': 1, 'point': 1, 'seen': 1, 'eyes': 1, 'present': 1, 'time': 1, 'high': 1, 'school': 1, 'eager': 1, 'follow': 1, 'footsteps': 1, 'told': 1, 'see': 1, 'path': 1, 'leads': 1, 'adoption': 1, 'white': 1, 'supremacy': 1, 'released': 1, 'served': 1, 'three': 1, 'finds': 1, 'full': 1, 'blown': 1, 'however': 1, 'given': 1, 'violence': 1, 'tries': 1, 'get': 1, 'understand': 1, 'comes': 1, 'bad': 1, 'things': 1, 'interesting': 1, 'stupid': 1, 'thoughtless': 1, 'people': 1, '--': 1, 'intelligent': 1, 'articulate': 1, 'voice': 1, 'beliefs': 1, 'disturbingly': 1, 'straightforward': 1, 'terms': 1, 'make': 1, 'controversial': 1, 'movie': 1, 'preach': 1, 'right': 1, 'note': 1, 'material': 1, 'mainstream': 1, 'redemption': 1, 'phase': 1, 'main': 1, 'may': 1, 'think': 1, 'way': 1, 'sympathetic': 1, 'partially': 1, 'disagree': 1, 'although': 1, 'advocate': 1, 'presents': 1, 'loud': 1, 'obnoxious': 1, 'also': 1, 'smart': 1, 'reasons': 1, 'believable': 1, 'father': 1, 'arbitrarily': 1, 'killed': 1, 'group': 1, 'clear': 1, 'passionate': 1, 'punk': 1, 'looking': 1, 'excuse': 1, 'beat': 1, 'course': 1, 'helps': 1, 'actor': 1, 'talented': 1, 'play': 1, 'part': 1, 'astonishing': 1, 'frightening': 1, 'looks': 1, 'shaved': 1, 'head': 1, 'swastika': 1, 'chest': 1, 'addition': 1, 'getting': 1, 'perfect': 1, 'requires': 1, 'intelligence': 1, 'depth': 1, 'whole': 1, 'lot': 1, 'shouting': 1, 'ease': 1, 'even': 1, 'meanest': 1, 'likable': 1, 'quality': 1, 'gutsy': 1, 'approach': 1, 'telling': 1, 'story': 1, 'adds': 1, 'subplot': 1, 'principal': 1, 'avery': 1, 'brooks': 1, 'obsessed': 1, 'purging': 1, 'hatred': 1, 'terrific': 1, 'standouts': 1, 'visually': 1, 'indulges': 1, 'artistic': 1, 'choices': 1, 'nicely': 1, 'lots': 1, 'slow': 1, 'motion': 1, 'strange': 1, 'camera': 1, 'angles': 1, 'add': 1, 'moody': 1, 'atmosphere': 1, 'like': 1, 'movies': 1, 'lately': 1, 'skims': 1, 'past': 1, 'greatness': 1, 'last': 1, 'minutes': 1, 'climactic': 1, 'scene': 1, 'moving': 1, 'picture': 1, 'ends': 1, 'pretentious': 1, 'preachy': 1, 'resolution': 1, 'featuring': 1, 'brief': 1, 'narration': 1, 'subtle': 1, 'felt': 1, 'slap': 1, 'face': 1, 'hand': 1, 'fed': 1, 'theme': 1, 'simplistic': 1, 'exactly': 1, 'disliked': 1, 'version': 1, 'perhaps': 1, 'problem': 1, 'imagine': 1, 'least': 1, 'pleased': 1, 'many': 1, 'timid': 1, 'weak': 1, 'manages': 1, 'compelling': 1, 'argument': 1, 'without': 1, 'advocating': 1}, 'pos')\n"
     ]
    }
   ],
   "source": [
    "print(positive_features[6])"
   ]
  },
  {
   "cell_type": "code",
   "execution_count": 58,
   "metadata": {
    "collapsed": true
   },
   "outputs": [],
   "source": [
    "from nltk.classify import NaiveBayesClassifier"
   ]
  },
  {
   "cell_type": "code",
   "execution_count": 60,
   "metadata": {
    "collapsed": true
   },
   "outputs": [],
   "source": [
    "split = 800"
   ]
  },
  {
   "cell_type": "code",
   "execution_count": 61,
   "metadata": {
    "collapsed": true
   },
   "outputs": [],
   "source": [
    "sentiment_classifier = NaiveBayesClassifier.train(positive_features[:split]+negative_features[:split])"
   ]
  },
  {
   "cell_type": "code",
   "execution_count": 62,
   "metadata": {},
   "outputs": [
    {
     "data": {
      "text/plain": [
       "98.0625"
      ]
     },
     "execution_count": 62,
     "metadata": {},
     "output_type": "execute_result"
    }
   ],
   "source": [
    "nltk.classify.util.accuracy(sentiment_classifier, positive_features[:split]+negative_features[:split])*100"
   ]
  },
  {
   "cell_type": "code",
   "execution_count": 63,
   "metadata": {},
   "outputs": [
    {
     "data": {
      "text/plain": [
       "71.75"
      ]
     },
     "execution_count": 63,
     "metadata": {},
     "output_type": "execute_result"
    }
   ],
   "source": [
    "nltk.classify.util.accuracy(sentiment_classifier, positive_features[split:]+negative_features[split:])*100"
   ]
  },
  {
   "cell_type": "code",
   "execution_count": 64,
   "metadata": {},
   "outputs": [
    {
     "name": "stdout",
     "output_type": "stream",
     "text": [
      "Most Informative Features\n",
      "             outstanding = 1                 pos : neg    =     13.9 : 1.0\n",
      "               insulting = 1                 neg : pos    =     13.7 : 1.0\n",
      "              vulnerable = 1                 pos : neg    =     13.0 : 1.0\n",
      "               ludicrous = 1                 neg : pos    =     12.6 : 1.0\n",
      "             uninvolving = 1                 neg : pos    =     12.3 : 1.0\n",
      "                  avoids = 1                 pos : neg    =     11.7 : 1.0\n",
      "              astounding = 1                 pos : neg    =     11.7 : 1.0\n",
      "             fascination = 1                 pos : neg    =     11.0 : 1.0\n",
      "               affecting = 1                 pos : neg    =     10.3 : 1.0\n",
      "                  darker = 1                 pos : neg    =     10.3 : 1.0\n"
     ]
    }
   ],
   "source": [
    "sentiment_classifier.show_most_informative_features()"
   ]
  },
  {
   "cell_type": "code",
   "execution_count": null,
   "metadata": {
    "collapsed": true
   },
   "outputs": [],
   "source": []
  }
 ],
 "metadata": {
  "kernelspec": {
   "display_name": "Python 3",
   "language": "python",
   "name": "python3"
  },
  "language_info": {
   "codemirror_mode": {
    "name": "ipython",
    "version": 3
   },
   "file_extension": ".py",
   "mimetype": "text/x-python",
   "name": "python",
   "nbconvert_exporter": "python",
   "pygments_lexer": "ipython3",
   "version": "3.6.1"
  }
 },
 "nbformat": 4,
 "nbformat_minor": 2
}
